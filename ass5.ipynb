{
 "cells": [
  {
   "cell_type": "markdown",
   "id": "4d5f528c-c704-4701-a7bb-c42357c53ccf",
   "metadata": {},
   "source": [
    "##ASSIGNMENT 05FEB_ASSQ"
   ]
  },
  {
   "cell_type": "markdown",
   "id": "8c3c692a-9d73-4ab9-8ecb-3d60d7b191b5",
   "metadata": {},
   "source": [
    "#SOLN_1:   \n",
    "'''Object − Objects have states and behaviors. Example: A dog has states - color, name, breed as well as behaviors – wagging the tail, barking, eating. An object is an instance of a class.\n",
    "\n",
    "Class − A class can be defined as a template/blueprint that describes the behavior/state that the object of its type support.'''\n",
    "    "
   ]
  },
  {
   "cell_type": "markdown",
   "id": "dfb19469-789c-49f0-984b-db588e63edc6",
   "metadata": {},
   "source": [
    "#SOLN2:\n",
    "''' These principles are called the four pillars of object-oriented programming (OOP). These four pillars are Inheritance, Polymorphism, Encapsulation and Abstraction'''"
   ]
  },
  {
   "cell_type": "markdown",
   "id": "cf12a706-58d1-4236-a361-4d99df101f1d",
   "metadata": {},
   "source": [
    "#SOLN3:\n",
    "'''All classes have a function called __init__(), which is always executed when the class is being initiated.\n",
    "\n",
    "Use the __init__() function to assign values to object properties, or other operations that are necessary to do when the object is being created:\n",
    "EXAMPLE:\n",
    "class Person:\n",
    "  def __init__(self, name, age):\n",
    "    self.name = name\n",
    "    self.age = age\n",
    "\n",
    "p1 = Person(\"John\", 36)\n",
    "\n",
    "print(p1.name)\n",
    "print(p1.age)\n",
    "'''"
   ]
  },
  {
   "cell_type": "markdown",
   "id": "b7c4738b-0f12-4eed-b613-e62570550e30",
   "metadata": {},
   "source": [
    "#SOLN:4\n",
    "'''self is used to bind varaibles to a class'''"
   ]
  },
  {
   "cell_type": "markdown",
   "id": "ca181c95-ad59-4707-a944-80d6ec9785fb",
   "metadata": {},
   "source": [
    "#SOLN:5\n",
    "'''\n",
    "Inheritance is a mechanism of acquiring the features and behaviors of a class by another class. The class whose members are inherited is called the base class, and the class that inherits those members is called the derived class\n",
    "Single inheritance\n",
    "In this inheritance, a derived class is created from a single base class.\n",
    "Multi-level inheritance\n",
    "In this inheritance, a derived class is created from another derived class.\n",
    "Multiple inheritance\n",
    "In this inheritance, a derived class is created from more than one base class. \n",
    "Multipath inheritance\n",
    "In this inheritance, a derived class is created from other derived classes and the same base class of other derived classes.\n",
    "Hierarchical Inheritance\n",
    "In this inheritance, more than one derived class is created from a single base class and further child classes act as parent classes for more than one child class\n",
    "'''"
   ]
  },
  {
   "cell_type": "code",
   "execution_count": null,
   "id": "911b74a8-762c-4afa-8785-a3b7527a5d63",
   "metadata": {},
   "outputs": [],
   "source": []
  }
 ],
 "metadata": {
  "kernelspec": {
   "display_name": "Python 3 (ipykernel)",
   "language": "python",
   "name": "python3"
  },
  "language_info": {
   "codemirror_mode": {
    "name": "ipython",
    "version": 3
   },
   "file_extension": ".py",
   "mimetype": "text/x-python",
   "name": "python",
   "nbconvert_exporter": "python",
   "pygments_lexer": "ipython3",
   "version": "3.10.8"
  }
 },
 "nbformat": 4,
 "nbformat_minor": 5
}
