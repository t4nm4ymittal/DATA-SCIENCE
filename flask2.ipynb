{
 "cells": [
  {
   "cell_type": "markdown",
   "id": "09ae864c-7cdc-4962-a7a5-22f94bbf7113",
   "metadata": {},
   "source": [
    "# 1\n",
    "Get and Post methods are the HTTP request methods used inside the <form> tag to send form data to the server. HTTP protocol enables the communication between the client and the server where a browser can be the client, and an application running on a computer system that hosts your website can be the server.\n"
   ]
  },
  {
   "cell_type": "markdown",
   "id": "35df521a-608c-4b53-bc75-05666793fec0",
   "metadata": {},
   "source": [
    "# 2\n",
    "To access the incoming data in Flask, you have to use the request object. The request object holds all incoming data from the request, which includes the mimetype, referrer, IP address, raw data, HTTP method, and headers, among other things\n",
    "\n"
   ]
  },
  {
   "cell_type": "markdown",
   "id": "e419ca2a-857a-42bb-8ea8-2d535ed879f5",
   "metadata": {},
   "source": [
    "# 3\n",
    "Redirection in Flask can be done by returning a redirect response object, created by invoking the redirect() function."
   ]
  },
  {
   "cell_type": "markdown",
   "id": "05dc22a8-54de-4af8-afbe-17ecc54d80dd",
   "metadata": {},
   "source": [
    "# 4\n",
    "render_template is used to generate output from a template file based on the Jinja2 engine that is found in the application's templates folder"
   ]
  },
  {
   "cell_type": "code",
   "execution_count": null,
   "id": "5fdfedb4-a665-4cbd-971b-1d419a323ff1",
   "metadata": {},
   "outputs": [],
   "source": []
  }
 ],
 "metadata": {
  "kernelspec": {
   "display_name": "Python 3 (ipykernel)",
   "language": "python",
   "name": "python3"
  },
  "language_info": {
   "codemirror_mode": {
    "name": "ipython",
    "version": 3
   },
   "file_extension": ".py",
   "mimetype": "text/x-python",
   "name": "python",
   "nbconvert_exporter": "python",
   "pygments_lexer": "ipython3",
   "version": "3.10.8"
  }
 },
 "nbformat": 4,
 "nbformat_minor": 5
}
