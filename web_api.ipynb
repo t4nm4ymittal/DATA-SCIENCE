{
 "cells": [
  {
   "cell_type": "markdown",
   "id": "da0d3e74-628d-4c06-bcd8-80b1515116e4",
   "metadata": {},
   "source": [
    "# 1\n",
    "API functions like a virtual middleman, relaying information from one interface, like a mobile app, to another.\n",
    "##### APPLICATION\n",
    "In practice, an API can be used to connect virtually any processes. Here are a few common examples of APIs:\n",
    "\n",
    "Sharing flight information between airlines and travel sites\n",
    "Using Google Maps in a rideshare app\n",
    "Building chatbots in a messaging service\n",
    "Embedding YouTube videos into a webpage\n"
   ]
  },
  {
   "cell_type": "markdown",
   "id": "fbfe4082-ce0b-4375-9414-2765bd2bb03f",
   "metadata": {},
   "source": [
    "# 2\n",
    "Advantages:\n",
    "\n",
    "Interoperability: APIs enable different software applications to communicate and exchange data with each other, regardless of their programming languages, platforms, or technologies. This allows for easier integration and interoperability between systems.\n",
    "\n",
    "Scalability: APIs allow for scalability, as they can handle a large volume of requests and responses from different clients without the need for significant modifications to the underlying software.\n",
    "\n",
    "APIs (Application Programming Interfaces) provide a standardized way for different software applications to communicate and exchange data with each other. Here are some advantages and disadvantages of using APIs:\n",
    "\n",
    "Advantages:\n",
    "\n",
    "Interoperability: APIs enable different software applications to communicate and exchange data with each other, regardless of their programming languages, platforms, or technologies. This allows for easier integration and interoperability between systems.\n",
    "\n",
    "Scalability: APIs allow for scalability, as they can handle a large volume of requests and responses from different clients without the need for significant modifications to the underlying software.\n",
    "\n",
    "Faster development: By providing a set of pre-built functions and libraries, APIs can help to speed up software development by reducing the need to write code from scratch.\n",
    "\n",
    "Better user experience: APIs can improve the user experience by allowing users to access different services and applications from a single platform or interface.\n",
    "\n",
    "Disadvantages:\n",
    "\n",
    "Security risks: APIs can create security risks if they are not properly secured or managed. APIs can expose sensitive data or functions to unauthorized users, which can lead to data breaches or other security incidents.\n",
    "\n",
    "Complexity: APIs can be complex to implement and maintain, especially if they involve multiple layers of abstraction or use complex protocols and standards."
   ]
  },
  {
   "cell_type": "markdown",
   "id": "0f58111b-1ee3-4c0f-8f3e-b510b0864924",
   "metadata": {},
   "source": [
    "# 3\n",
    "A Web API stands for Application Programming Interface. It is a software application that allows two different applications or machines to interact with each other without any user interference.\n",
    "#### DIFFERNCE\n",
    "\n",
    "Web service is used to communicate between two machines on a network.\tWeb API is used as an interface between two different applications for communicating with each other.\n",
    "It uses HTML requests that can be compressed, but XML data cannot be compressed.\tData can be compressed.\n",
    "Generally, it uses the HTTP protocol for communication. It also uses SOAP, REST, and XML-RPC as communication.\tIt may use any means of communication protocols such as HTTP/HTTPS to initiate the interaction between applications.\n",
    "A web service is just an API wrapped in HTTP.\tIt's not always be a web-based"
   ]
  },
  {
   "cell_type": "markdown",
   "id": "d03cf432-cfac-4964-ad2f-a7f858f0e6b4",
   "metadata": {},
   "source": [
    "# 4\n",
    "SOAP cannot use REST because SOAP is a protocol and REST has an architectural style. REST can use SOAP as a protocol for web services. SOAP uses WSDL to expose supported methods and technical details. REST exposes methods through URIs, there are no technical details.\n"
   ]
  },
  {
   "cell_type": "markdown",
   "id": "35dab95b-199c-4424-8f00-f598b63c2fbc",
   "metadata": {},
   "source": [
    "# 5\n",
    "REST is a set of guidelines that offers flexible implementation, whereas SOAP is a protocol with specific requirements like XML messaging.\n",
    "\n",
    "REST APIs are lightweight, making them ideal for newer contexts like the Internet of Things (IoT), mobile application development, and serverless computing. SOAP web services offer built-in security and transaction compliance that align with many enterprise needs, but that also makes them heavie"
   ]
  },
  {
   "cell_type": "code",
   "execution_count": null,
   "id": "ed0399dd-ed13-4b79-8b55-59842f1cd64c",
   "metadata": {},
   "outputs": [],
   "source": []
  }
 ],
 "metadata": {
  "kernelspec": {
   "display_name": "Python 3 (ipykernel)",
   "language": "python",
   "name": "python3"
  },
  "language_info": {
   "codemirror_mode": {
    "name": "ipython",
    "version": 3
   },
   "file_extension": ".py",
   "mimetype": "text/x-python",
   "name": "python",
   "nbconvert_exporter": "python",
   "pygments_lexer": "ipython3",
   "version": "3.10.8"
  }
 },
 "nbformat": 4,
 "nbformat_minor": 5
}
