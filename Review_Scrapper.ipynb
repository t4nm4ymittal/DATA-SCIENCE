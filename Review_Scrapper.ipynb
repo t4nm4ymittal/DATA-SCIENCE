{
 "cells": [
  {
   "cell_type": "markdown",
   "id": "d1ac61d8-9537-46fb-9868-f5ebc6b2c37c",
   "metadata": {},
   "source": [
    "# 1\n",
    "Web scraping is an automatic method to obtain large amounts of data from websites\n",
    "Uses:\n",
    "Price Monitoring\n",
    "Market Research\n",
    "News Monitoring"
   ]
  },
  {
   "cell_type": "markdown",
   "id": "6c058424-ef96-4b63-9cff-b3cfa6f03951",
   "metadata": {},
   "source": [
    "# 2\n",
    "Human Copy and Paste\n",
    "HTML parsing\n",
    "DOM parsing"
   ]
  },
  {
   "cell_type": "markdown",
   "id": "52d352e1-e407-4b82-9b03-69858a6bab72",
   "metadata": {},
   "source": [
    "# 3\n",
    "Beautiful Soup is a Python package for parsing HTML and XML documents (including having malformed markup, i.e. non-closed tags, so named after tag soup). It creates a parse tree for parsed pages that can be used to extract data from HTML, which is useful for web scraping"
   ]
  },
  {
   "cell_type": "code",
   "execution_count": null,
   "id": "2b83f0a2-f39c-451b-9c69-91479ea80622",
   "metadata": {},
   "outputs": [],
   "source": []
  }
 ],
 "metadata": {
  "kernelspec": {
   "display_name": "Python 3 (ipykernel)",
   "language": "python",
   "name": "python3"
  },
  "language_info": {
   "codemirror_mode": {
    "name": "ipython",
    "version": 3
   },
   "file_extension": ".py",
   "mimetype": "text/x-python",
   "name": "python",
   "nbconvert_exporter": "python",
   "pygments_lexer": "ipython3",
   "version": "3.10.8"
  }
 },
 "nbformat": 4,
 "nbformat_minor": 5
}
