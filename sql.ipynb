{
 "cells": [
  {
   "cell_type": "markdown",
   "id": "049494a6-89df-42c0-93dd-b2aea5491739",
   "metadata": {},
   "source": [
    "Q1\n",
    "SQL databases are vertically scalable, while NoSQL databases are horizontally scalable. SQL databases are table-based, while NoSQL databases are document, key-value, graph, or wide-column stores. SQL databases are better for multi-row transactions, while NoSQL is better for unstructured data like documents or JSON"
   ]
  },
  {
   "cell_type": "markdown",
   "id": "01758d0a-8090-4e8e-9834-7b06b8e955d6",
   "metadata": {},
   "source": [
    "#### Q2\n",
    "Data Definition Language(DDL) is a subset of SQL and a part of DBMS(Database Management System). DDL consist of Commands to commands like CREATE, ALTER, TRUNCATE and DROP. These commands are used to create or modify the tables in SQL.\n",
    "CREATE :\n",
    "This command is used to create a new table in SQL. The user has to give information like table name, column names, and their datatypes.\n",
    "ALTER:\n",
    "This command is used to add, delete or change columns in the existing table. The user needs to know the existing table name and can do add, delete or modify tasks easily.\n",
    "TRUNCATE :\n",
    "This command is used to remove all rows from the table, but the structure of the table still exists.\n",
    "DROP:\n",
    "This command is used to remove an existing table along with its structure from the Database."
   ]
  },
  {
   "cell_type": "markdown",
   "id": "bbaeb74a-a160-4cc5-ae1a-bdb7124b9345",
   "metadata": {},
   "source": [
    "# Q3\n",
    "The structured query language (SQL) commands deal with the manipulation of data present in the database that belongs to the DML or Data Manipulation Language. This includes most of the SQL statements.\n",
    "SELECT − Retrieve data from the database.\n",
    "\n",
    "INSERT − Insert data into a table.\n",
    "\n",
    "UPDATE − Update existing data within a table.\n",
    "\n",
    "DELETE − Delete records from a database table\n"
   ]
  },
  {
   "cell_type": "markdown",
   "id": "7867bbc4-ddb9-46aa-b17d-e02c644111f4",
   "metadata": {},
   "source": [
    "# Q4\n",
    "DQL is a portion of a SQL statement that allows you to get and organise data from a database\n",
    "An SQL SELECT statement retrieves records from a database table according to clauses (for example, FROM and WHERE ) that specify criteria"
   ]
  },
  {
   "cell_type": "markdown",
   "id": "32c8f54e-17da-4598-8632-2dd7c2a407c5",
   "metadata": {},
   "source": [
    "# Q5\n",
    "A relational database is designed to enforce the uniqueness of primary keys by allowing only one row with a given primary key value in a table. Foreign keys. A foreign key is a column or a set of columns in a table whose values correspond to the values of the primary key in another table."
   ]
  },
  {
   "cell_type": "markdown",
   "id": "ff59c455-e4b5-4b2f-b919-98b649d4c206",
   "metadata": {},
   "source": [
    "# Q6"
   ]
  },
  {
   "cell_type": "code",
   "execution_count": null,
   "id": "962575c5-2863-48ce-a9d3-4b5c846d4809",
   "metadata": {},
   "outputs": [],
   "source": [
    "\n",
    "import mysql.connector\n",
    "conn = mysql.connector.connect(\n",
    "user = 'root',password='password',host='127.0.0.1',database='mydb'\n",
    ")\n",
    "cursor = conn.cursor()"
   ]
  },
  {
   "cell_type": "markdown",
   "id": "cb286fb0-a814-49ee-9476-c31037566fb0",
   "metadata": {},
   "source": [
    "The MySQLCursor of mysql-connector-python (and similar libraries) is used to execute statements to communicate with the MySQL database.\n",
    "This method accepts a MySQL query as a parameter and executes the given query.\n"
   ]
  },
  {
   "cell_type": "markdown",
   "id": "9a3da1b4-6ea2-407d-8964-51d61042dd23",
   "metadata": {},
   "source": [
    "# Q7\n"
   ]
  }
 ],
 "metadata": {
  "kernelspec": {
   "display_name": "Python 3 (ipykernel)",
   "language": "python",
   "name": "python3"
  },
  "language_info": {
   "codemirror_mode": {
    "name": "ipython",
    "version": 3
   },
   "file_extension": ".py",
   "mimetype": "text/x-python",
   "name": "python",
   "nbconvert_exporter": "python",
   "pygments_lexer": "ipython3",
   "version": "3.10.8"
  }
 },
 "nbformat": 4,
 "nbformat_minor": 5
}
