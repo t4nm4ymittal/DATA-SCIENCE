{
 "cells": [
  {
   "cell_type": "markdown",
   "id": "442abf51-73b8-4c12-8678-5b08751b801f",
   "metadata": {},
   "source": [
    "Q1\n",
    "Errors are the problems in a program due to which the program will stop the execution. On the other hand, exceptions are raised when some internal events occur which changes the normal flow of the program. "
   ]
  },
  {
   "cell_type": "markdown",
   "id": "36229e47-4e0d-4189-b185-4dbba705591a",
   "metadata": {},
   "source": [
    "Q2\n",
    "If an exception occurs during execution of the try clause, the exception may be handled by an except clause. If the exception is not handled by an except clause, the exception is re-raised after the finally clause has been executed"
   ]
  },
  {
   "cell_type": "markdown",
   "id": "61f5c890-330b-43c0-b561-7b5adef25631",
   "metadata": {},
   "source": [
    "q3\n",
    "If the exception is not handled by an except clause, the exception is re-raised after the finally clause has been executed\n",
    "EXAMPLE\n",
    "try:\n",
    "   fh = open(\"testfile\", \"r\")\n",
    "   fh.write(\"This is my test file for exception handling!!\")\n",
    "finally:\n",
    "   print \"Error: can\\'t find file or read data\""
   ]
  },
  {
   "cell_type": "markdown",
   "id": "5e81d489-2d5c-4ae9-9d28-8e78493b28a3",
   "metadata": {},
   "source": [
    "Q4\n",
    "Try: This block will test the excepted error to occur\n",
    "Except:  Here you can handle the error\n",
    "Else: If there is no exception then this block will be executed\n",
    "Finally: Finally block always gets executed either exception is generated or not"
   ]
  },
  {
   "cell_type": "code",
   "execution_count": null,
   "id": "554cc7c6-6703-47f3-b94c-4d552bb48022",
   "metadata": {},
   "outputs": [],
   "source": [
    "Q5\n",
    "class InvalidAgeException(Exception):\n",
    "    \"Raised when the input value is less than 18\"\n",
    "    pass\n",
    "\n",
    "# you need to guess this number\n",
    "number = 18\n",
    "\n",
    "try:\n",
    "    input_num = int(input(\"Enter a number: \"))\n",
    "    if input_num < number:\n",
    "        raise InvalidAgeException\n",
    "    else:\n",
    "        print(\"Eligible to Vote\")\n",
    "        \n",
    "except InvalidAgeException:\n",
    "    print(\"Exception occurred: Invalid Age\")"
   ]
  }
 ],
 "metadata": {
  "kernelspec": {
   "display_name": "Python 3 (ipykernel)",
   "language": "python",
   "name": "python3"
  },
  "language_info": {
   "codemirror_mode": {
    "name": "ipython",
    "version": 3
   },
   "file_extension": ".py",
   "mimetype": "text/x-python",
   "name": "python",
   "nbconvert_exporter": "python",
   "pygments_lexer": "ipython3",
   "version": "3.10.8"
  }
 },
 "nbformat": 4,
 "nbformat_minor": 5
}
