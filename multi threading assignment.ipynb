{
 "cells": [
  {
   "cell_type": "markdown",
   "id": "5fddae79-02e9-45fa-be02-775f6265119d",
   "metadata": {},
   "source": [
    "#### 1\n",
    "Multithreading is a threading technique in Python programming to run multiple threads concurrently by rapidly switching between threads with a CPU help (called context switching). Besides, it allows sharing of its data space with the main threads inside a process that share information and communication with other threads easier than individual processes. Multithreading aims to perform multiple tasks simultaneously, which increases performance, speed and improves the rendering of the application\n",
    "The threading module is a high-level implementation of multithreading used to deploy an application in Python"
   ]
  },
  {
   "cell_type": "markdown",
   "id": "046fd878-c027-469d-a36c-22990467f7b7",
   "metadata": {},
   "source": [
    "#### 2\n",
    "threading.activeCount() − Returns the number of thread objects that are active.\n",
    "threading.currentThread() − Returns the number of thread objects in the caller's thread control.\n",
    "threading.enumerate() − Returns a list of all thread objects that are currently active."
   ]
  },
  {
   "cell_type": "markdown",
   "id": "59e5580c-ed7d-40da-a481-26691d153b67",
   "metadata": {},
   "source": [
    "#### 3\n",
    "run()  − The run() method is the entry point for a thread.\n",
    "start()  − The start() method starts a thread by calling the run method.\n",
    "join([time])  − The join() waits for threads to terminate.\n",
    "isAlive()  − The isAlive() method checks whether a thread is still executing."
   ]
  },
  {
   "cell_type": "code",
   "execution_count": 6,
   "id": "1d43fd6b-75d9-4c7e-995f-4493dbc50f69",
   "metadata": {},
   "outputs": [],
   "source": [
    "####Q4\n",
    "import threading\n",
    "import time\n",
    "def print1(target,list1):\n",
    "    if target==0:\n",
    "        for x in list1:\n",
    "            print('thread id %d is executing and printing %d'% (target,x*x))\n",
    "            time.sleep(1)   \n",
    "    if target==1:\n",
    "        for x in list1:\n",
    "            print('thread id %d is executing and printing %d'% (target,x*x*x))\n",
    "            time.sleep(1)\n",
    "list1 = [1,2,3,4,5]            \n",
    "th = [threading.Thread(target=print1,args=(i,list1)) for i in range(2)]"
   ]
  },
  {
   "cell_type": "code",
   "execution_count": 7,
   "id": "1e37059a-382f-484e-8bd4-2dda9b4d4b70",
   "metadata": {},
   "outputs": [
    {
     "name": "stdout",
     "output_type": "stream",
     "text": [
      "thread id 0 is executing and printing 1\n",
      "thread id 1 is executing and printing 1\n",
      "thread id 0 is executing and printing 4thread id 1 is executing and printing 8\n",
      "\n",
      "thread id 1 is executing and printing 27\n",
      "thread id 0 is executing and printing 9\n",
      "thread id 1 is executing and printing 64\n",
      "thread id 0 is executing and printing 16\n",
      "thread id 1 is executing and printing 125\n",
      "thread id 0 is executing and printing 25\n"
     ]
    }
   ],
   "source": [
    "for t in th:\n",
    "    t.start()"
   ]
  },
  {
   "cell_type": "markdown",
   "id": "24216924-2652-4122-b31e-d309538d7b60",
   "metadata": {},
   "source": [
    "#### 5\n",
    "ADVANTAGES:\n",
    "Improved performance and concurrency\n",
    "For certain applications, performance and concurrency can be improved by using multithreading and multicontexting together. In other applications, performance can be unaffected or even degraded by using multithreading and multicontexting together. How performance is affected depends on your application.\n",
    "\n",
    "\n",
    "Simplified coding of remote procedure calls and conversations\n",
    "In some applications it is easier to code different remote procedure calls and conversations in separate threads than to manage them from the same thread.\n",
    "\n",
    "\n",
    "Simultaneous access to multiple applications\n",
    "Your BEA Tuxedo clients can be connected to more than one application at a time.\n",
    "\n",
    "\n",
    "Reduced number of required servers\n",
    "Because one server can dispatch multiple service threads, the number of servers to start for your application is reduced. This capability for multiple dispatched threads is especially useful for conversational servers, which otherwise must be dedicated to one client for the entire duration of a conversation.\n",
    "\n",
    "DISADVANTAGES:\n",
    "Difficulty of writing code\n",
    "Multithreaded and multicontexted applications are not easy to write. Only experienced programmers should undertake coding for these types of applications.\n",
    "\n",
    "\n",
    "Difficulty of debugging\n",
    "It is much harder to replicate an error in a multithreaded or multicontexted application than it is to do so in a single-threaded, single-contexted application. As a result, it is more difficult, in the former case, to identify and verify root causes when errors occur.\n",
    "\n",
    "\n",
    "Difficulty of managing concurrency\n",
    "The task of managing concurrency among threads is difficult and has the potential to introduce new problems into an application.\n",
    "\n",
    "\n",
    "Difficulty of testing"
   ]
  },
  {
   "cell_type": "markdown",
   "id": "05b6b1cf-20dd-4a98-9fa6-e9423b5a2d6d",
   "metadata": {},
   "source": [
    "#### Q6\n",
    "RACE:\n",
    "When two processes are competing with each other causing data corruption.\n",
    "DEADLOCK:\n",
    "When two processes are waiting for each other directly or indirectly, it is called deadlock."
   ]
  },
  {
   "cell_type": "code",
   "execution_count": null,
   "id": "55539fe8-e968-47b3-9b43-fdb9f91056fd",
   "metadata": {},
   "outputs": [],
   "source": []
  }
 ],
 "metadata": {
  "kernelspec": {
   "display_name": "Python 3 (ipykernel)",
   "language": "python",
   "name": "python3"
  },
  "language_info": {
   "codemirror_mode": {
    "name": "ipython",
    "version": 3
   },
   "file_extension": ".py",
   "mimetype": "text/x-python",
   "name": "python",
   "nbconvert_exporter": "python",
   "pygments_lexer": "ipython3",
   "version": "3.10.8"
  }
 },
 "nbformat": 4,
 "nbformat_minor": 5
}
