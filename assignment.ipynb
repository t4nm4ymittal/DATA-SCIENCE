{
 "cells": [
  {
   "cell_type": "markdown",
   "id": "2939397e-fcd8-4abe-8935-6ae30be42986",
   "metadata": {},
   "source": [
    "In Python, we use the open() method to open files.\n",
    "Mode\tDescription\n",
    "r\tOpen a file for reading. (default)\n",
    "w\tOpen a file for writing. Creates a new file if it does not exist or truncates the file if it exists.\n",
    "x\tOpen a file for exclusive creation. If the file already exists, the operation fails.\n",
    "a\tOpen a file for appending at the end of the file without truncating it. Creates a new file if it does not exist.\n",
    "t\tOpen in text mode. (default)\n",
    "b\tOpen in binary mode.\n",
    "+\tOpen a file for updating (reading and writing)"
   ]
  },
  {
   "cell_type": "markdown",
   "id": "b2586814-9248-4eb3-a484-5573882c4c81",
   "metadata": {},
   "source": [
    "Q2\n",
    "The close() method closes an open file. You should always close your files, in some cases, due to buffering, changes made to a file may not show until you close the file."
   ]
  },
  {
   "cell_type": "code",
   "execution_count": 13,
   "id": "33df3bb6-5745-4654-b7f5-e368023319b6",
   "metadata": {},
   "outputs": [
    {
     "name": "stdout",
     "output_type": "stream",
     "text": [
      "I want to become a data scientist\n"
     ]
    }
   ],
   "source": [
    "#Q3\n",
    "#python to create text file\n",
    "\n",
    "f=  open('demo.txt','w')\n",
    "f.write(\"I want to become a data scientist\")\n",
    "f.close()\n",
    "f = open('demo.txt','r')\n",
    "print(f.read())\n",
    "\n"
   ]
  },
  {
   "cell_type": "code",
   "execution_count": 14,
   "id": "0dcbdde0-0dd1-41d4-9950-48deb62e8599",
   "metadata": {},
   "outputs": [
    {
     "name": "stdout",
     "output_type": "stream",
     "text": [
      "readlines\n",
      "['Hello everyone\\n', 'Myself tanmay mittal\\n', 'from MNIT jaipur']\n",
      "----------------------\n",
      "readline\n",
      "\n",
      "\n"
     ]
    }
   ],
   "source": [
    "#Q4\n",
    "f = open('example.txt','r')\n",
    "print('readlines')\n",
    "print(f.readlines())\n",
    "print('----------------------')\n",
    "print('readline')\n",
    "print(f.readline())\n",
    "print(f.readline())"
   ]
  },
  {
   "cell_type": "markdown",
   "id": "6a881afe-8969-4936-8d85-f8370a6761ff",
   "metadata": {
    "tags": []
   },
   "source": [
    "##### Q5\n",
    "Unlike open() where you have to close the file with the close() method, the with statement closes the file for you without you telling it to.\n",
    "\n",
    "This is because the with statement calls 2 built-in methods behind the scene – __enter()__ and __exit()__.\n",
    "\n",
    "The __exit()__ method closes the file when the operation you specify is done."
   ]
  },
  {
   "cell_type": "markdown",
   "id": "c2c98b8a-dbc7-407d-8757-84ec28967e40",
   "metadata": {},
   "source": [
    "Q6\n",
    "The only difference between the write() and writelines() is that write() is used to write a string to an already opened file while writelines() method is used to write a list of strings in an opened file."
   ]
  },
  {
   "cell_type": "code",
   "execution_count": null,
   "id": "9fa78ac9-7324-4972-9b1e-202197cab60a",
   "metadata": {},
   "outputs": [],
   "source": []
  }
 ],
 "metadata": {
  "kernelspec": {
   "display_name": "Python 3 (ipykernel)",
   "language": "python",
   "name": "python3"
  },
  "language_info": {
   "codemirror_mode": {
    "name": "ipython",
    "version": 3
   },
   "file_extension": ".py",
   "mimetype": "text/x-python",
   "name": "python",
   "nbconvert_exporter": "python",
   "pygments_lexer": "ipython3",
   "version": "3.10.8"
  }
 },
 "nbformat": 4,
 "nbformat_minor": 5
}
