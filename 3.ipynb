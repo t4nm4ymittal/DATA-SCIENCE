{
 "cells": [
  {
   "cell_type": "code",
   "execution_count": 21,
   "id": "1b9cbca9-eab9-47db-a8d6-9798eb3d5540",
   "metadata": {},
   "outputs": [
    {
     "data": {
      "text/plain": [
       "'swift'"
      ]
     },
     "execution_count": 21,
     "metadata": {},
     "output_type": "execute_result"
    }
   ],
   "source": [
    "class vehicle:\n",
    "    def __init__(self,name_of_vehicle,max_speed,average_of_vehicle):\n",
    "        self.name_of_vehicle = name_of_vehicle\n",
    "        self.max_speed = max_speed\n",
    "        self.average_of_vehicle = average_of_vehicle\n",
    "        \n",
    "        \n",
    "v = vehicle('rangerover',70,25)\n",
    "v.name_of_vehicle  = 'swift'\n",
    "v.name_of_vehicle"
   ]
  },
  {
   "cell_type": "code",
   "execution_count": 22,
   "id": "d4930bc7-5c3d-4f95-bd7d-1704d282f628",
   "metadata": {},
   "outputs": [
    {
     "name": "stdout",
     "output_type": "stream",
     "text": [
      "city\n"
     ]
    }
   ],
   "source": [
    "class car(vehicle):\n",
    "    def __init__(self,name_of_vehicle,max_speed,average_of_vehicle):\n",
    "            vehicle.__init__(self,name_of_vehicle,max_speed,average_of_vehicle)\n",
    "    def seating_capacity(self,capacity):\n",
    "        print(self.name_of_vehicle)\n",
    "c  = car('city',200,20)\n",
    "c.seating_capacity(6)"
   ]
  },
  {
   "cell_type": "code",
   "execution_count": 30,
   "id": "df001bb3-68a3-46c7-b77c-3c89016b5f49",
   "metadata": {},
   "outputs": [
    {
     "data": {
      "text/plain": [
       "'GITA'"
      ]
     },
     "execution_count": 30,
     "metadata": {},
     "output_type": "execute_result"
    }
   ],
   "source": [
    "class Father:\n",
    "    def __init__(self,firstname):\n",
    "        self.firstname1 = firstname\n",
    "        \n",
    "class Mother:\n",
    "    def __init__(self,firstname):\n",
    "        self.firstname2 = firstname\n",
    "        \n",
    "class Child(Father,Mother):\n",
    "    def __init__(self,fathername,mothername):\n",
    "        Father.__init__(self,fathername)\n",
    "        Mother.__init__(self,mothername)\n",
    "RAHUL = Child('RAMESH','GITA')\n",
    "RAHUL.firstname1\n",
    "RAHUL.firstname2"
   ]
  },
  {
   "cell_type": "code",
   "execution_count": 36,
   "id": "a85d1a1a-5c8f-4f6f-bcf8-2f978ac18198",
   "metadata": {},
   "outputs": [
    {
     "name": "stdout",
     "output_type": "stream",
     "text": [
      "tushar\n",
      "parag 80\n"
     ]
    }
   ],
   "source": [
    "#To access private attributes and methods getters and setters are used\n",
    "class Student:\n",
    "    def __init__(self,name,marks):\n",
    "        self._name = name\n",
    "        self._marks = marks\n",
    "    def set_info(self,name,marks):\n",
    "        self._name =name\n",
    "        self._marks = marks\n",
    "    def get_info(self):\n",
    "        print(self._name,self._marks)\n",
    "s1 = Student('tushar',100)\n",
    "print(s1._name)\n",
    "s1.set_info('parag',80)\n",
    "s1.get_info()"
   ]
  },
  {
   "cell_type": "code",
   "execution_count": null,
   "id": "d2b199fc-1f70-4787-8bdb-0a5e4693be09",
   "metadata": {},
   "outputs": [],
   "source": [
    "'''Method overriding is an ability of any object-oriented programming \n",
    "language that allows a subclass or child class to provide a specific \n",
    "implementation of a method that is already provided by one of its \n",
    "super-classes or parent classes. When a method in a subclass has the \n",
    "same name, same parameters or signature and same return type(or sub-type)\n",
    "as a method in its super-class, then the method in the subclass \n",
    "is said to override the method in the super-class.'''\n",
    "class vehicle:\n",
    "    def __init__(self,name_of_vehicle,max_speed,average_of_vehicle):\n",
    "        self.name_of_vehicle = name_of_vehicle\n",
    "        self.max_speed = max_speed\n",
    "        self.average_of_vehicle = average_of_vehicle\n",
    "    def hi(self):\n",
    "        print('this is parent class')\n",
    "\n",
    "class car(vehicle):\n",
    "    def __init__(self,name_of_vehicle,max_speed,average_of_vehicle):\n",
    "            vehicle.__init__(self,name_of_vehicle,max_speed,average_of_vehicle)\n",
    "    def seating_capacity(self,capacity):\n",
    "        print(self.name_of_vehicle)\n",
    "    def hi(self):\n",
    "        print('this is child class')\n",
    "c =  car('        "
   ]
  }
 ],
 "metadata": {
  "kernelspec": {
   "display_name": "Python 3 (ipykernel)",
   "language": "python",
   "name": "python3"
  },
  "language_info": {
   "codemirror_mode": {
    "name": "ipython",
    "version": 3
   },
   "file_extension": ".py",
   "mimetype": "text/x-python",
   "name": "python",
   "nbconvert_exporter": "python",
   "pygments_lexer": "ipython3",
   "version": "3.10.8"
  }
 },
 "nbformat": 4,
 "nbformat_minor": 5
}
