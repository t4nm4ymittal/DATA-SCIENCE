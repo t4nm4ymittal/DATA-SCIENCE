{
 "cells": [
  {
   "cell_type": "markdown",
   "id": "fa260611-6b9a-4051-ac8c-2ed9a996062c",
   "metadata": {},
   "source": [
    "# 1\n",
    "Flask is a microframework offering all the basic features of a web application\n",
    "#### ADVANTAGES\n",
    "It is a lightweight framework that offers hassle-free development.\n",
    "Provide flexibility to the developer to experiment with their modules or architecture.\n",
    "It is suitable for small projects.\n",
    "Offers a built-in development server and fast debugger.\n"
   ]
  },
  {
   "cell_type": "code",
   "execution_count": 1,
   "id": "45a9e23d-1022-43d6-97ad-8849aad2ca87",
   "metadata": {},
   "outputs": [
    {
     "ename": "ModuleNotFoundError",
     "evalue": "No module named 'flask'",
     "output_type": "error",
     "traceback": [
      "\u001b[0;31m---------------------------------------------------------------------------\u001b[0m",
      "\u001b[0;31mModuleNotFoundError\u001b[0m                       Traceback (most recent call last)",
      "Cell \u001b[0;32mIn[1], line 1\u001b[0m\n\u001b[0;32m----> 1\u001b[0m \u001b[38;5;28;01mfrom\u001b[39;00m \u001b[38;5;21;01mflask\u001b[39;00m \u001b[38;5;28;01mimport\u001b[39;00m Flask\n\u001b[1;32m      2\u001b[0m \u001b[38;5;28;01mfrom\u001b[39;00m \u001b[38;5;21;01mflask\u001b[39;00m \u001b[38;5;28;01mimport\u001b[39;00m request \n\u001b[1;32m      4\u001b[0m app \u001b[38;5;241m=\u001b[39m Flask(\u001b[38;5;18m__name__\u001b[39m)\n",
      "\u001b[0;31mModuleNotFoundError\u001b[0m: No module named 'flask'"
     ]
    }
   ],
   "source": [
    "from flask import Flask\n",
    "from flask import request \n",
    "\n",
    "app = Flask(__name__)\n",
    "\n",
    "@app.route(\"/\")\n",
    "def hello_world():\n",
    "    return \"<h1>Hello, World!</h1>\"\n"
   ]
  },
  {
   "cell_type": "markdown",
   "id": "07720902-8874-41da-814f-80aa465b1416",
   "metadata": {},
   "source": [
    "# 3\n",
    "App routing is used to map the specific URL with the associated function that is intended to perform some task.\n"
   ]
  },
  {
   "cell_type": "code",
   "execution_count": null,
   "id": "15478bba-58ad-49c5-9bf8-be46a12ece8d",
   "metadata": {},
   "outputs": [],
   "source": [
    "###4\n",
    "from flask import Flask\n",
    "from flask import request \n",
    "\n",
    "app = Flask(__name__)\n",
    "\n",
    "@app.route(\"/\")\n",
    "def hello_world():\n",
    "    return \"Company Name:ABC Corporation<br>\\\n",
    "            Location:India<br>\\\n",
    "            Contact Detail: 999-999-9999\"\n",
    "\n",
    "@app.route(\"/welcome\")\n",
    "def welcome():\n",
    "    return 'Welcome to ABC corporation'"
   ]
  },
  {
   "cell_type": "markdown",
   "id": "4b589484-0b3f-4bf7-8c66-66a80677908d",
   "metadata": {},
   "source": [
    "# 4\n",
    "The url_for() function is very useful for dynamically building a URL for a specific function. The function accepts the name of a function as first argument, and one or more keyword arguments, each corresponding to the variable part of URL\n"
   ]
  },
  {
   "cell_type": "code",
   "execution_count": null,
   "id": "4b0ed008-151a-4059-9a83-60633e339ea3",
   "metadata": {},
   "outputs": [],
   "source": []
  }
 ],
 "metadata": {
  "kernelspec": {
   "display_name": "Python 3 (ipykernel)",
   "language": "python",
   "name": "python3"
  },
  "language_info": {
   "codemirror_mode": {
    "name": "ipython",
    "version": 3
   },
   "file_extension": ".py",
   "mimetype": "text/x-python",
   "name": "python",
   "nbconvert_exporter": "python",
   "pygments_lexer": "ipython3",
   "version": "3.10.8"
  }
 },
 "nbformat": 4,
 "nbformat_minor": 5
}
